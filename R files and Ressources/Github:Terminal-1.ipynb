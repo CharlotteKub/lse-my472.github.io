{
 "cells": [
  {
   "cell_type": "markdown",
   "metadata": {},
   "source": [
    "__How to run commands in the terminal for Github:__\n",
    "\n",
    "- pwd \n",
    "- cd ~/Desktop/Folder1/Subfolder1/\n",
    "- cd - # to go from subfolder to folder level \n",
    "\n",
    "- git clone \"url of repo\"\n",
    "- git status  #to check the state of your local repo\n",
    "- git add . # add all changes to local repo\n",
    "- git commit -m \"commit message\"\n",
    "- git push # to push changes from local to remote repo\n",
    "\n",
    "- git branch # to check which branch your at on terminal --> * marks your current branch\n",
    "- git checkout -b 'name of branch' # to create new branch and move to that branch \n",
    "- git checkout 'name of branch' \n",
    "\n",
    "- git log # to review all your current changes \n",
    "\n",
    "- git merge 'name of branch' --> merges changes in branch to main, BUT: git checkout main before merging branch changes"
   ]
  },
  {
   "cell_type": "markdown",
   "metadata": {},
   "source": [
    "\n"
   ]
  }
 ],
 "metadata": {
  "kernelspec": {
   "display_name": "Python 3",
   "language": "python",
   "name": "python3"
  },
  "language_info": {
   "name": "python",
   "version": "3.9.6"
  },
  "orig_nbformat": 4
 },
 "nbformat": 4,
 "nbformat_minor": 2
}
